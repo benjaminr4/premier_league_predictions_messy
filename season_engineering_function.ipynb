{
 "cells": [
  {
   "cell_type": "code",
   "execution_count": 128,
   "id": "ed67ba13-93f5-4934-91a1-8b7b635845f2",
   "metadata": {},
   "outputs": [],
   "source": [
    "import pandas as pd\n",
    "import numpy as np"
   ]
  },
  {
   "cell_type": "code",
   "execution_count": 129,
   "id": "be0c0046-2d69-47eb-9ca0-6b588dce4e80",
   "metadata": {},
   "outputs": [],
   "source": [
    "pd.set_option('display.max_columns', None)\n",
    "#pd.reset_option('display.max_columns')"
   ]
  },
  {
   "cell_type": "code",
   "execution_count": 130,
   "id": "f6e76d14-5d3f-4ca9-92d9-4824c474a021",
   "metadata": {},
   "outputs": [],
   "source": [
    "season09=pd.read_csv('data/season-0910.csv')\n",
    "season10=pd.read_csv('data/season-1011.csv')\n",
    "season11=pd.read_csv('data/season-1112.csv')\n",
    "season12=pd.read_csv('data/season-1213.csv')\n",
    "season13=pd.read_csv('data/season-1314.csv')\n",
    "season14=pd.read_csv('data/season-1415.csv')\n",
    "season15=pd.read_csv('data/season-1516.csv')\n",
    "season16=pd.read_csv('data/season-1617.csv')\n",
    "season17=pd.read_csv('data/season-1718.csv')"
   ]
  },
  {
   "cell_type": "markdown",
   "id": "9e9f50f4-5079-46fc-95af-00fe829883e5",
   "metadata": {},
   "source": [
    "I will prepare features by each table separately. Teams change each year and I want to have data grouped by team. I will also want to have about 5 matches of data for each team to get some running aggregations"
   ]
  },
  {
   "cell_type": "code",
   "execution_count": 131,
   "id": "6fcda04f-edac-48cc-b783-f0a9b01b2b05",
   "metadata": {},
   "outputs": [],
   "source": [
    "seasons=[season09,season10,season11,season12,season13,season14,season15,season16,season17]"
   ]
  },
  {
   "cell_type": "code",
   "execution_count": 132,
   "id": "1668fc7f-c58f-4e89-8210-b09a1c131177",
   "metadata": {},
   "outputs": [],
   "source": [
    "for i, table in enumerate(seasons):\n",
    "    dates=table['Date'].apply(lambda x: len(x)).unique()\n",
    "    if len(dates)==1:\n",
    "        if dates[0]==8:\n",
    "            table['Date']=pd.to_datetime(table['Date'], format='%d/%m/%y')\n",
    "            \n",
    "        elif dates[0]==10:\n",
    "            table['Date']=pd.to_datetime(table['Date'], format='%d/%m/%Y')\n",
    "        else:\n",
    "            print(f\"unexpected date format, check table {i}\")\n",
    "    else:\n",
    "         print(f\"more than 1 date format, check table {i}\")"
   ]
  },
  {
   "cell_type": "code",
   "execution_count": 133,
   "id": "b072d757-7ee8-4d1a-a9d3-93035d3f4bf2",
   "metadata": {},
   "outputs": [],
   "source": [
    "def process_season_data(season_df, season_name):\n",
    "    # One-hot encode the result field\n",
    "    ftr_encoded = pd.get_dummies(season_df['FTR'], prefix='', prefix_sep='')\n",
    "    \n",
    "    # Adding the new one-hot encoded columns to the dataframe\n",
    "    season_df = pd.concat([season_df, ftr_encoded], axis=1)\n",
    "    \n",
    "    season_df.rename(columns={'H': 'HomeWin', 'D': 'Draw', 'A': 'AwayWin'}, inplace=True)\n",
    "    \n",
    "    # Keeping most data except for away team, referee, half-time result, and away cards received by the opposite team.\n",
    "    homeMatches = season_df[['Date', 'HomeTeam', 'FTHG', 'FTAG', 'FTR', 'HTHG', 'HTAG',\n",
    "                             'HS', 'AS', 'HST', 'AST', 'HF', 'AF', 'HC', 'AC', 'HY', 'HR', 'HomeWin', 'Draw', 'AwayWin']]\n",
    "    \n",
    "    homeMatches = homeMatches.copy()\n",
    "    \n",
    "    homeMatches.rename(columns={'HomeTeam': 'team',\n",
    "                                'HomeWin': 'win',\n",
    "                                'Draw': 'draw',\n",
    "                                'AwayWin': 'loss',\n",
    "                                'FTHG': 'goals',\n",
    "                                'FTAG': 'conceded',\n",
    "                                'FTR': 'result',\n",
    "                                'HTHG': 'half_goals',\n",
    "                                'HTAG': 'half_conceded',\n",
    "                                'HS': 'shots',\n",
    "                                'AS': 'shots_against',\n",
    "                                'HST': 'shots_target',\n",
    "                                'AST': 'shots_against_target',\n",
    "                                'HF': 'fouls',\n",
    "                                'AF': 'fouls_other_team',\n",
    "                                'HC': 'corners',\n",
    "                                'AC': 'corners_conceded',\n",
    "                                'HY': 'yellows',\n",
    "                                'HR': 'reds'}, inplace=True)\n",
    "\n",
    "    awayMatches = season_df[['Date', 'AwayTeam', 'FTHG', 'FTAG', 'FTR', 'HTHG', 'HTAG',\n",
    "                             'HS', 'AS', 'HST', 'AST', 'HF', 'AF', 'HC', 'AC', 'AY', 'AR', 'HomeWin', 'Draw', 'AwayWin']]\n",
    "\n",
    "    awayMatches = awayMatches.copy()\n",
    "\n",
    "    # Same as above but with all the away stats swapped with the home stats\n",
    "    awayMatches.rename(columns={'AwayTeam': 'team',\n",
    "                                'AwayWin': 'win',\n",
    "                                'Draw': 'draw',\n",
    "                                'HomeWin': 'loss',\n",
    "                                'FTAG': 'goals',\n",
    "                                'FTHG': 'conceded',\n",
    "                                'FTR': 'result',\n",
    "                                'HTAG': 'half_goals',\n",
    "                                'HTHG': 'half_conceded',\n",
    "                                'AS': 'shots',\n",
    "                                'HS': 'shots_against',\n",
    "                                'AST': 'shots_target',\n",
    "                                'HST': 'shots_against_target',\n",
    "                                'AF': 'fouls',\n",
    "                                'HF': 'fouls_other_team',\n",
    "                                'AC': 'corners',\n",
    "                                'HC': 'corners_conceded',\n",
    "                                'AY': 'yellows',\n",
    "                                'AR': 'reds'}, inplace=True)\n",
    "\n",
    "    awayMatches.reset_index(drop=True)\n",
    "\n",
    "    # Combine home and away matches\n",
    "    allMatches = pd.concat([homeMatches, awayMatches], axis=0).sort_values(by=['Date', 'team']).reset_index(drop=True)\n",
    "\n",
    "    # Add match number and days since previous match\n",
    "    allMatches['matchNumber'] = allMatches.groupby('team')['Date'].transform('cumcount') + 1\n",
    "    allMatches['daysSince'] = allMatches.groupby('team')['Date'].transform(lambda x: x - x.shift(1))\n",
    "\n",
    "    # Define the columns to calculate running totals for\n",
    "    stats = ['win', 'draw', 'loss', 'goals', 'conceded', 'half_goals', 'half_conceded',\n",
    "             'shots', 'shots_against', 'shots_target', 'shots_against_target', 'corners',\n",
    "             'corners_conceded', 'fouls', 'fouls_other_team', 'yellows', 'reds']\n",
    "\n",
    "    # Loop through the stats and calculate the running totals\n",
    "    for stat in stats:\n",
    "        allMatches[f'total.{stat}'] = allMatches.groupby('team')[stat].transform(\n",
    "            lambda x: x.shift(1).cumsum() / x.shift(1).expanding().count().replace(0, pd.NA)\n",
    "        )\n",
    "\n",
    "    # Loop through the stats and calculate the last 3 game averages\n",
    "    for stat in stats:\n",
    "        allMatches[f'last3.{stat}'] = allMatches.groupby('team')[stat].transform(\n",
    "            lambda x: x.shift(1).rolling(window=3, min_periods=1).mean()\n",
    "        )\n",
    "\n",
    "    # Drop the original stats columns\n",
    "    allMatches.drop(columns=['goals', 'conceded', 'result', 'half_goals', 'half_conceded',\n",
    "                             'shots', 'shots_against', 'shots_target', 'shots_against_target',\n",
    "                             'fouls', 'fouls_other_team', 'corners', 'corners_conceded', 'yellows',\n",
    "                             'reds', 'win', 'draw', 'loss'], inplace=True)\n",
    "\n",
    "    # Merge home and away match data into season DataFrame\n",
    "    season_df = season_df[['Date', 'HomeTeam', 'AwayTeam', 'FTR', 'AwayWin', 'Draw', 'HomeWin']]\n",
    "\n",
    "    season_df = season_df.merge(\n",
    "        allMatches.add_prefix('home.'), how='left', left_on=['Date', 'HomeTeam'], right_on=['home.Date', 'home.team'])\n",
    "\n",
    "    season_df.drop(columns=['home.Date', 'home.team'], inplace=True)\n",
    "\n",
    "    season_df = season_df.merge(\n",
    "        allMatches.add_prefix('away.'), how='left', left_on=['Date', 'AwayTeam'], right_on=['away.Date', 'away.team'])\n",
    "\n",
    "    season_df.drop(columns=['away.Date', 'away.team'], inplace=True)\n",
    "\n",
    "    # Home v away performance by team (when home or away respectively)\n",
    "    season_df['home.total.win.whenHome'] = season_df.groupby('HomeTeam')['HomeWin'].transform(\n",
    "        lambda x: x.shift(1).cumsum() / x.shift(1).expanding().count().replace(0, pd.NA)\n",
    "    )\n",
    "\n",
    "    season_df['home.total.draw.whenHome'] = season_df.groupby('HomeTeam')['Draw'].transform(\n",
    "        lambda x: x.shift(1).cumsum() / x.shift(1).expanding().count().replace(0, pd.NA)\n",
    "    )\n",
    "\n",
    "    season_df['home.total.loss.whenHome'] = season_df.groupby('HomeTeam')['AwayWin'].transform(\n",
    "        lambda x: x.shift(1).cumsum() / x.shift(1).expanding().count().replace(0, pd.NA)\n",
    "    )\n",
    "\n",
    "    season_df['away.total.win.whenAway'] = season_df.groupby('AwayTeam')['AwayWin'].transform(\n",
    "        lambda x: x.shift(1).cumsum() / x.shift(1).expanding().count().replace(0, pd.NA)\n",
    "    )\n",
    "\n",
    "    season_df['away.total.draw.whenAway'] = season_df.groupby('AwayTeam')['Draw'].transform(\n",
    "        lambda x: x.shift(1).cumsum() / x.shift(1).expanding().count().replace(0, pd.NA)\n",
    "    )\n",
    "\n",
    "    season_df['away.total.loss.whenAway'] = season_df.groupby('AwayTeam')['HomeWin'].transform(\n",
    "        lambda x: x.shift(1).cumsum() / x.shift(1).expanding().count().replace(0, pd.NA)\n",
    "    )\n",
    "\n",
    "    # Adding a column to indicate the season\n",
    "    season_df['season'] = season_name\n",
    "\n",
    "    return season_df\n",
    "\n",
    "\n"
   ]
  },
  {
   "cell_type": "code",
   "execution_count": 134,
   "id": "906f2733-fcb8-46ce-89a2-f4a3e86b4f49",
   "metadata": {},
   "outputs": [],
   "source": [
    "# Example usage:\n",
    "season09_df = process_season_data(season09, 'season09')\n",
    "season10_df = process_season_data(season10, 'season10')\n",
    "season11_df = process_season_data(season11, 'season11')\n",
    "season12_df = process_season_data(season12, 'season12')\n",
    "season13_df = process_season_data(season13, 'season13')\n",
    "season14_df = process_season_data(season14, 'season14')\n",
    "season15_df = process_season_data(season15, 'season15')\n",
    "season16_df = process_season_data(season16, 'season16')\n",
    "season17_df = process_season_data(season17, 'season17')"
   ]
  },
  {
   "cell_type": "code",
   "execution_count": 135,
   "id": "573d4dbe-ef03-4f11-ae8e-bddb733cc3c4",
   "metadata": {},
   "outputs": [],
   "source": [
    "seasons_df=pd.concat([season09_df, season10_df, season11_df, season12_df, season13_df, season14_df, season15_df, season16_df, season17_df], axis=0, ignore_index=True)"
   ]
  },
  {
   "cell_type": "code",
   "execution_count": 136,
   "id": "0a75c348-87d7-46a2-b705-60846087ced9",
   "metadata": {},
   "outputs": [],
   "source": [
    "seasons_df.drop(columns=['HomeWin' ,'Draw', 'AwayWin'], inplace=True)"
   ]
  },
  {
   "cell_type": "code",
   "execution_count": 137,
   "id": "45e1bd3a-5188-4b72-afa9-47e4e614c149",
   "metadata": {},
   "outputs": [],
   "source": [
    "seasons_df.to_pickle('data/seasons_HA_df.pkl')"
   ]
  },
  {
   "cell_type": "markdown",
   "id": "cc004d4d-d870-4973-af2e-185a512d8610",
   "metadata": {},
   "source": [
    "Aggregating most of the home v away team's stats so there are less features to deal with"
   ]
  },
  {
   "cell_type": "code",
   "execution_count": 138,
   "id": "54d1ded8-2b61-492a-a10f-a3e60f61a0e4",
   "metadata": {},
   "outputs": [],
   "source": [
    "home_columns=['home.daysSince', 'home.total.win',\n",
    "        'home.total.draw', 'home.total.loss', 'home.total.goals',\n",
    "        'home.total.conceded', 'home.total.half_goals',\n",
    "        'home.total.half_conceded', 'home.total.shots',\n",
    "        'home.total.shots_against', 'home.total.shots_target',\n",
    "        'home.total.shots_against_target', 'home.total.corners',\n",
    "        'home.total.corners_conceded', 'home.total.fouls',\n",
    "        'home.total.fouls_other_team', 'home.total.yellows', 'home.total.reds',\n",
    "        'home.last3.win', 'home.last3.draw', 'home.last3.loss',\n",
    "        'home.last3.goals', 'home.last3.conceded', 'home.last3.half_goals',\n",
    "        'home.last3.half_conceded', 'home.last3.shots',\n",
    "        'home.last3.shots_against', 'home.last3.shots_target',\n",
    "        'home.last3.shots_against_target', 'home.last3.corners',\n",
    "        'home.last3.corners_conceded', 'home.last3.fouls',\n",
    "        'home.last3.fouls_other_team', 'home.last3.yellows', 'home.last3.reds',\n",
    "        'home.total.win.whenHome', 'home.total.draw.whenHome',\n",
    "        'home.total.loss.whenHome'\n",
    "             ]\n",
    "home_data = seasons_df[home_columns]\n",
    "seasons_df.drop(columns=home_columns, inplace=True)"
   ]
  },
  {
   "cell_type": "code",
   "execution_count": 139,
   "id": "adad5917-a37e-4505-8e74-c4e32874f523",
   "metadata": {},
   "outputs": [],
   "source": [
    "away_columns=['away.daysSince', 'away.total.win',\n",
    "        'away.total.draw', 'away.total.loss', 'away.total.goals',\n",
    "        'away.total.conceded', 'away.total.half_goals',\n",
    "        'away.total.half_conceded', 'away.total.shots',\n",
    "        'away.total.shots_against', 'away.total.shots_target',\n",
    "        'away.total.shots_against_target', 'away.total.corners',\n",
    "        'away.total.corners_conceded', 'away.total.fouls',\n",
    "        'away.total.fouls_other_team', 'away.total.yellows', 'away.total.reds',\n",
    "        'away.last3.win', 'away.last3.draw', 'away.last3.loss',\n",
    "        'away.last3.goals', 'away.last3.conceded', 'away.last3.half_goals',\n",
    "        'away.last3.half_conceded', 'away.last3.shots',\n",
    "        'away.last3.shots_against', 'away.last3.shots_target',\n",
    "        'away.last3.shots_against_target', 'away.last3.corners',\n",
    "        'away.last3.corners_conceded', 'away.last3.fouls',\n",
    "        'away.last3.fouls_other_team', 'away.last3.yellows', 'away.last3.reds',\n",
    "        'away.total.win.whenAway', 'away.total.draw.whenAway', 'away.total.loss.whenAway'\n",
    "             ]\n",
    "away_data = seasons_df[away_columns]\n",
    "seasons_df.drop(columns=away_columns, inplace=True)"
   ]
  },
  {
   "cell_type": "code",
   "execution_count": 140,
   "id": "483a06a3-e0b2-4997-9f7d-11ff3316214c",
   "metadata": {},
   "outputs": [],
   "source": [
    "new_column_names=['diff.daysSince', 'diff.total.win',\n",
    "        'diff.total.draw', 'diff.total.loss', 'diff.total.goals',\n",
    "        'diff.total.conceded', 'diff.total.half_goals',\n",
    "        'diff.total.half_conceded', 'diff.total.shots',\n",
    "        'diff.total.shots_against', 'diff.total.shots_target',\n",
    "        'diff.total.shots_against_target', 'diff.total.corners',\n",
    "        'diff.total.corners_conceded', 'diff.total.fouls',\n",
    "        'diff.total.fouls_other_team', 'diff.total.yellows', 'diff.total.reds',\n",
    "        'diff.last3.win', 'diff.last3.draw', 'diff.last3.loss',\n",
    "        'diff.last3.goals', 'diff.last3.conceded', 'diff.last3.half_goals',\n",
    "        'diff.last3.half_conceded', 'diff.last3.shots',\n",
    "        'diff.last3.shots_against', 'diff.last3.shots_target',\n",
    "        'diff.last3.shots_against_target', 'diff.last3.corners',\n",
    "        'diff.last3.corners_conceded', 'diff.last3.fouls',\n",
    "        'diff.last3.fouls_other_team', 'diff.last3.yellows', 'diff.last3.reds',\n",
    "        'diff.total.win.whenHorA', 'diff.total.draw.whenHorA',\n",
    "        'diff.total.loss.whenHorA'\n",
    "             ]"
   ]
  },
  {
   "cell_type": "code",
   "execution_count": 141,
   "id": "c3adb3a5-064f-4b55-bdb2-c0d3a44a28a4",
   "metadata": {},
   "outputs": [],
   "source": [
    "diff_df=pd.DataFrame(home_data.values-away_data.values, columns=new_column_names)"
   ]
  },
  {
   "cell_type": "code",
   "execution_count": 143,
   "id": "2e009c1f-9f96-413e-9de7-1afc70c9bd5d",
   "metadata": {},
   "outputs": [],
   "source": [
    "seasons_df=pd.concat([seasons_df, diff_df], axis=1)"
   ]
  },
  {
   "cell_type": "code",
   "execution_count": 144,
   "id": "9da05cd4-49c7-4897-b4f0-f7f0ddfc8d56",
   "metadata": {},
   "outputs": [],
   "source": [
    "seasons_df['diff.daysSince']=seasons_df['diff.daysSince'].dt.days"
   ]
  },
  {
   "cell_type": "code",
   "execution_count": null,
   "id": "23cc7ad8-e6cf-4766-90c5-ad32b25f0d2b",
   "metadata": {},
   "outputs": [],
   "source": []
  },
  {
   "cell_type": "code",
   "execution_count": 145,
   "id": "48d467eb-96c3-4d7b-9c0c-1ec68fd72227",
   "metadata": {},
   "outputs": [],
   "source": [
    "seasons_df.to_pickle('data/seasons_df.pkl')"
   ]
  },
  {
   "cell_type": "code",
   "execution_count": null,
   "id": "0afe2e6c-164c-44f6-a92a-199de2887540",
   "metadata": {},
   "outputs": [],
   "source": []
  }
 ],
 "metadata": {
  "kernelspec": {
   "display_name": "Python 3 (ipykernel)",
   "language": "python",
   "name": "python3"
  },
  "language_info": {
   "codemirror_mode": {
    "name": "ipython",
    "version": 3
   },
   "file_extension": ".py",
   "mimetype": "text/x-python",
   "name": "python",
   "nbconvert_exporter": "python",
   "pygments_lexer": "ipython3",
   "version": "3.10.12"
  }
 },
 "nbformat": 4,
 "nbformat_minor": 5
}
